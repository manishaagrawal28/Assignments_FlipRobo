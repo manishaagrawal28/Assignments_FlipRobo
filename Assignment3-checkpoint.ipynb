{
 "cells": [
  {
   "cell_type": "markdown",
   "metadata": {},
   "source": [
    "# Data_Augmentation on Scrapped images from Amazon"
   ]
  },
  {
   "cell_type": "code",
   "execution_count": 1,
   "metadata": {},
   "outputs": [],
   "source": [
    "#importing libraries\n",
    "import numpy as np\n",
    "import cv2\n",
    "import os\n",
    "import shutil"
   ]
  },
  {
   "cell_type": "code",
   "execution_count": 2,
   "metadata": {},
   "outputs": [
    {
     "name": "stdout",
     "output_type": "stream",
     "text": [
      "453images loaded\n"
     ]
    }
   ],
   "source": [
    "from os import listdir\n",
    "from os.path import isfile,join\n",
    "\n",
    "mypath=\"./Desktop/FlipRobo/My_datasets/\"\n",
    "file_names=[f for f in listdir(mypath)if isfile(join(mypath,f))]\n",
    "print(str(len(file_names))+'images loaded')"
   ]
  },
  {
   "cell_type": "code",
   "execution_count": 3,
   "metadata": {},
   "outputs": [],
   "source": [
    "shirts_count=0\n",
    "Tshirts_count=0\n",
    "sarees_count=0\n",
    "\n",
    "training_size=100\n",
    "test_size=50\n",
    "\n",
    "training_images=[]\n",
    "training_labels=[]\n",
    "test_images=[]\n",
    "test_labels=[]\n",
    "\n",
    "size=150"
   ]
  },
  {
   "cell_type": "code",
   "execution_count": 4,
   "metadata": {},
   "outputs": [],
   "source": [
    "shirts_train_dir='./FlipRobo/data/train/shirts/'\n",
    "Tshirts_train_dir='./FlipRobo/data/train/Tshirts/'\n",
    "sarees_train_dir='./FlipRobo/data/train/sarees/'\n",
    "\n",
    "shirts_test_dir='./FlipRobo/data/test/shirts/'\n",
    "Tshirts_test_dir='./FlipRobo/data/test/Tshirts/'\n",
    "sarees_test_dir='./FlipRobo/data/test/sarees/'\n",
    "\n",
    "def make_dir(directory):\n",
    "    if os.path.exists(directory):\n",
    "        shutil.rmtree(directory)\n",
    "    os.makedirs(directory)\n",
    "    \n",
    "make_dir(shirts_train_dir)\n",
    "make_dir(Tshirts_train_dir)\n",
    "make_dir(sarees_train_dir)\n",
    "make_dir(shirts_test_dir)\n",
    "make_dir(Tshirts_test_dir)\n",
    "make_dir(sarees_test_dir)"
   ]
  },
  {
   "cell_type": "code",
   "execution_count": 5,
   "metadata": {},
   "outputs": [],
   "source": [
    "#Extraction of Training and Test Data\n",
    "def getzeros(number):\n",
    "    if (number> 10 and number<100):\n",
    "        return \"0\"\n",
    "    if (number<10):\n",
    "        return \"00\"\n",
    "    else :\n",
    "        return \"\"\n",
    "for i ,file in enumerate(file_names):\n",
    "    \n",
    "    if file_names[i][0]==\"s\":\n",
    "        shirts_count+=1\n",
    "        image=cv2.imread(mypath+file)\n",
    "        image=cv2.resize(image,(size,size),interpolation=cv2.INTER_AREA)\n",
    "        if shirts_count<=training_size:\n",
    "            training_images.append(image)\n",
    "            training_labels.append(1)\n",
    "            zeros=getzeros(shirts_count)\n",
    "            cv2.imwrite(shirts_train_dir+\"shirts\"+str(zeros)+str(shirts_count)+\".jpg\",image)\n",
    "        if shirts_count>training_size and shirts_count<=training_size+test_size:\n",
    "            test_images.append(image)\n",
    "            test_labels.append(1)\n",
    "            zeros=getzeros(shirts_count-100)\n",
    "            cv2.imwrite(shirts_test_dir+\"shirts\"+str(zeros)+str(shirts_count)+\".jpg\",image)\n",
    "    if file_names[i][0]==\"T\":\n",
    "            Tshirts_count+=1\n",
    "            image=cv2.imread(mypath+file)\n",
    "            image=cv2.resize(image,(size,size),interpolation=cv2.INTER_AREA)\n",
    "            if Tshirts_count<=training_size:\n",
    "                training_images.append(image)\n",
    "                training_labels.append(1)\n",
    "                zeros=getzeros(Tshirts_count)\n",
    "                cv2.imwrite(Tshirts_train_dir+\"Tshirts\"+str(zeros)+str(Tshirts_count)+\".jpg\",image)\n",
    "            if Tshirts_count>training_size and Tshirts_count<=training_size+test_size:\n",
    "                test_images.append(image)\n",
    "                test_labels.append(1)\n",
    "                zeros=getzeros(Tshirts_count-100)\n",
    "                cv2.imwrite(Tshirts_test_dir+\"Tshirts\"+str(zeros)+str(Tshirts_count)+\".jpg\",image)\n",
    "    if file_names[i][0]==\"S\":\n",
    "        sarees_count+=1\n",
    "        image=cv2.imread(mypath+file)\n",
    "        image=cv2.resize(image,(size,size),interpolation=cv2.INTER_AREA)\n",
    "        if sarees_count<=training_size:\n",
    "            training_images.append(image)\n",
    "            training_labels.append(1)\n",
    "            zeros=getzeros(sarees_count)\n",
    "            cv2.imwrite(sarees_train_dir+\"Sarees\"+str(zeros)+str(sarees_count)+\".jpg\",image)\n",
    "        if sarees_count>training_size and sarees_count<=training_size+test_size:\n",
    "            test_images.append(image)\n",
    "            test_labels.append(1)\n",
    "            zeros=getzeros(sarees_count-100)\n",
    "            cv2.imwrite(sarees_test_dir+\"Sarees\"+str(zeros)+str(sarees_count)+\".jpg\",image)\n",
    "    \n",
    "    if shirts_count==training_size+test_size and Tshirts_count==training_size+test_size and sarees_count==training_size+test_size:\n",
    "            break\n",
    "        \n"
   ]
  },
  {
   "cell_type": "code",
   "execution_count": 6,
   "metadata": {},
   "outputs": [],
   "source": [
    "#save our loaded data as npz files\n",
    "np.savez(\"Amazon_training_data.npz\",np.array(training_images))\n",
    "np.savez(\"Amazon_training_labels.npz\",np.array(training_labels))\n",
    "np.savez(\"Amazon_test_data.npz\",np.array(test_images))\n",
    "np.savez(\"Amazon_test_labels.npz\",np.array(test_labels))"
   ]
  },
  {
   "cell_type": "code",
   "execution_count": 7,
   "metadata": {},
   "outputs": [],
   "source": [
    "import numpy as np\n",
    "\n",
    "def load_data(datasetname):\n",
    "    npzfile=np.load(\"Amazon_training_data.npz\")\n",
    "    train=npzfile['arr_0']\n",
    "    \n",
    "    npzfile=np.load(\"Amazon_training_labels.npz\")\n",
    "    train_labels=npzfile['arr_0']\n",
    "    \n",
    "    npzfile=np.load(\"Amazon_test_data.npz\")\n",
    "    test=npzfile['arr_0']\n",
    "    \n",
    "    npzfile=np.load(\"Amazon_test_labels.npz\")\n",
    "    test_labels=npzfile['arr_0']\n",
    "    return (train,train_labels),(test,test_labels)  "
   ]
  },
  {
   "cell_type": "code",
   "execution_count": 8,
   "metadata": {},
   "outputs": [
    {
     "name": "stdout",
     "output_type": "stream",
     "text": [
      "1-Tshirts\n",
      "2-Tshirts\n",
      "3-Tshirts\n",
      "4-Tshirts\n"
     ]
    }
   ],
   "source": [
    "#show the loaded data\n",
    "for i in range(1,5):\n",
    "    random=np.random.randint(0,len(training_images))\n",
    "    cv2.imshow(\"image_\"+str(i),training_images[random])\n",
    "    if training_labels[random]==0:\n",
    "        print(str(i)+\"-shirts\")\n",
    "    elif training_labels[random]==1:\n",
    "           print(str(i)+\"-Tshirts\")\n",
    "    else:\n",
    "        print(str(i)+\"-sarees\")\n",
    "    cv2.waitKey(0)\n",
    "cv2.destroyAllWindows()"
   ]
  },
  {
   "cell_type": "code",
   "execution_count": 9,
   "metadata": {},
   "outputs": [
    {
     "name": "stdout",
     "output_type": "stream",
     "text": [
      "(300, 150, 150, 3)\n",
      "(300, 1)\n",
      "(120, 150, 150, 3)\n",
      "(120, 1)\n"
     ]
    }
   ],
   "source": [
    "#make format that accepted by Keras\n",
    "(x_train,y_train),(x_test,y_test)=load_data('Amazon')\n",
    "y_train=y_train.reshape(y_train.shape[0],1)\n",
    "y_test=y_test.reshape(y_test.shape[0],1)\n",
    "\n",
    "x_train=x_train.astype('float32')\n",
    "x_test=x_test.astype('float32')\n",
    "\n",
    "x_train /= 255\n",
    "x_test /= 255\n",
    "\n",
    "print(x_train.shape)\n",
    "print(y_train.shape)\n",
    "print(x_test.shape)\n",
    "print(y_test.shape)"
   ]
  },
  {
   "cell_type": "code",
   "execution_count": 10,
   "metadata": {},
   "outputs": [
    {
     "name": "stderr",
     "output_type": "stream",
     "text": [
      "Using TensorFlow backend.\n"
     ]
    },
    {
     "name": "stdout",
     "output_type": "stream",
     "text": [
      "WARNING:tensorflow:From C:\\Users\\hp\\anaconda3\\envs\\Virtual\\lib\\site-packages\\keras\\backend\\tensorflow_backend.py:17: The name tf.placeholder is deprecated. Please use tf.compat.v1.placeholder instead.\n",
      "\n"
     ]
    }
   ],
   "source": [
    "#build a model\n",
    "#importing the libraries\n",
    "\n",
    "from __future__ import print_function\n",
    "import tensorflow as tf\n",
    "from tensorflow import keras\n",
    "from tensorflow.keras.models import Sequential\n",
    "from tensorflow.keras.layers import Dense,Dropout,Activation,Flatten,Conv2D,MaxPooling2D\n",
    "from tensorflow.keras.utils import plot_model\n",
    "from keras import optimizers\n",
    "\n",
    "from tensorflow.keras.preprocessing.image import ImageDataGenerator"
   ]
  },
  {
   "cell_type": "code",
   "execution_count": 11,
   "metadata": {},
   "outputs": [],
   "source": [
    "img_rows=x_train[0].shape[0]\n",
    "img_cols=x_train[1].shape[0]\n",
    "input_shape=(img_rows,img_cols,3)\n",
    "\n",
    "batch_size=32\n",
    "epochs=30"
   ]
  },
  {
   "cell_type": "code",
   "execution_count": 12,
   "metadata": {},
   "outputs": [
    {
     "name": "stdout",
     "output_type": "stream",
     "text": [
      "WARNING:tensorflow:From C:\\Users\\hp\\anaconda3\\envs\\Virtual\\lib\\site-packages\\tensorflow_core\\python\\ops\\resource_variable_ops.py:1630: calling BaseResourceVariable.__init__ (from tensorflow.python.ops.resource_variable_ops) with constraint is deprecated and will be removed in a future version.\n",
      "Instructions for updating:\n",
      "If using Keras pass *_constraint arguments to layers.\n",
      "Model: \"sequential\"\n",
      "_________________________________________________________________\n",
      "Layer (type)                 Output Shape              Param #   \n",
      "=================================================================\n",
      "conv2d (Conv2D)              (None, 148, 148, 32)      896       \n",
      "_________________________________________________________________\n",
      "max_pooling2d (MaxPooling2D) (None, 74, 74, 32)        0         \n",
      "_________________________________________________________________\n",
      "dropout (Dropout)            (None, 74, 74, 32)        0         \n",
      "_________________________________________________________________\n",
      "conv2d_1 (Conv2D)            (None, 72, 72, 32)        9248      \n",
      "_________________________________________________________________\n",
      "max_pooling2d_1 (MaxPooling2 (None, 36, 36, 32)        0         \n",
      "_________________________________________________________________\n",
      "dropout_1 (Dropout)          (None, 36, 36, 32)        0         \n",
      "_________________________________________________________________\n",
      "conv2d_2 (Conv2D)            (None, 34, 34, 64)        18496     \n",
      "_________________________________________________________________\n",
      "max_pooling2d_2 (MaxPooling2 (None, 17, 17, 64)        0         \n",
      "_________________________________________________________________\n",
      "dropout_2 (Dropout)          (None, 17, 17, 64)        0         \n",
      "_________________________________________________________________\n",
      "flatten (Flatten)            (None, 18496)             0         \n",
      "_________________________________________________________________\n",
      "dense (Dense)                (None, 128)               2367616   \n",
      "_________________________________________________________________\n",
      "dropout_3 (Dropout)          (None, 128)               0         \n",
      "_________________________________________________________________\n",
      "dense_1 (Dense)              (None, 3)                 387       \n",
      "=================================================================\n",
      "Total params: 2,396,643\n",
      "Trainable params: 2,396,643\n",
      "Non-trainable params: 0\n",
      "_________________________________________________________________\n",
      "None\n"
     ]
    }
   ],
   "source": [
    "model=Sequential()\n",
    "\n",
    "model.add(Conv2D(32,(3,3),input_shape=input_shape,activation='relu'))\n",
    "model.add(MaxPooling2D(pool_size=(2,2)))\n",
    "model.add(Dropout(0.2))\n",
    "model.add(Conv2D(32,(3,3),activation='relu'))\n",
    "model.add(MaxPooling2D(pool_size=(2,2)))\n",
    "model.add(Dropout(0.2))\n",
    "model.add(Conv2D(64,(3,3),activation='relu'))\n",
    "model.add(MaxPooling2D(pool_size=(2,2)))\n",
    "model.add(Dropout(0.2))\n",
    "    \n",
    "model.add(Flatten())\n",
    "model.add(Dense(128,activation='relu'))\n",
    "model.add(Dropout(0.2))\n",
    "model.add(Dense(3,activation='softmax'))\n",
    "    \n",
    "print(model.summary())\n",
    "  \n",
    "model.compile(optimizer='adam',metrics=['accuracy'],loss='sparse_categorical_crossentropy')"
   ]
  },
  {
   "cell_type": "code",
   "execution_count": 13,
   "metadata": {},
   "outputs": [
    {
     "name": "stdout",
     "output_type": "stream",
     "text": [
      "Train on 300 samples, validate on 120 samples\n",
      "Epoch 1/30\n",
      "300/300 [==============================] - 15s 51ms/sample - loss: 0.1401 - acc: 0.8967 - val_loss: 4.4306e-07 - val_acc: 1.0000\n",
      "Epoch 2/30\n",
      "300/300 [==============================] - 15s 50ms/sample - loss: 0.0000e+00 - acc: 1.0000 - val_loss: 2.9802e-09 - val_acc: 1.0000\n",
      "Epoch 3/30\n",
      "300/300 [==============================] - 15s 50ms/sample - loss: 0.0000e+00 - acc: 1.0000 - val_loss: 0.0000e+00 - val_acc: 1.0000\n",
      "Epoch 4/30\n",
      "300/300 [==============================] - 16s 53ms/sample - loss: 0.0000e+00 - acc: 1.0000 - val_loss: 0.0000e+00 - val_acc: 1.0000\n",
      "Epoch 5/30\n",
      "300/300 [==============================] - 15s 49ms/sample - loss: 0.0000e+00 - acc: 1.0000 - val_loss: 0.0000e+00 - val_acc: 1.0000\n",
      "Epoch 6/30\n",
      "300/300 [==============================] - 14s 48ms/sample - loss: 0.0000e+00 - acc: 1.0000 - val_loss: 0.0000e+00 - val_acc: 1.0000\n",
      "Epoch 7/30\n",
      "300/300 [==============================] - 15s 49ms/sample - loss: 0.0000e+00 - acc: 1.0000 - val_loss: 0.0000e+00 - val_acc: 1.0000\n",
      "Epoch 8/30\n",
      "300/300 [==============================] - 16s 52ms/sample - loss: 0.0000e+00 - acc: 1.0000 - val_loss: 0.0000e+00 - val_acc: 1.0000\n",
      "Epoch 9/30\n",
      "300/300 [==============================] - 16s 52ms/sample - loss: 0.0000e+00 - acc: 1.0000 - val_loss: 0.0000e+00 - val_acc: 1.0000\n",
      "Epoch 10/30\n",
      "300/300 [==============================] - 15s 51ms/sample - loss: 0.0000e+00 - acc: 1.0000 - val_loss: 0.0000e+00 - val_acc: 1.0000\n",
      "Epoch 11/30\n",
      "300/300 [==============================] - 15s 50ms/sample - loss: 0.0000e+00 - acc: 1.0000 - val_loss: 0.0000e+00 - val_acc: 1.0000\n",
      "Epoch 12/30\n",
      "300/300 [==============================] - 15s 49ms/sample - loss: 0.0000e+00 - acc: 1.0000 - val_loss: 0.0000e+00 - val_acc: 1.0000\n",
      "Epoch 13/30\n",
      "300/300 [==============================] - 15s 49ms/sample - loss: 0.0000e+00 - acc: 1.0000 - val_loss: 0.0000e+00 - val_acc: 1.0000\n",
      "Epoch 14/30\n",
      "300/300 [==============================] - 14s 47ms/sample - loss: 0.0000e+00 - acc: 1.0000 - val_loss: 0.0000e+00 - val_acc: 1.0000\n",
      "Epoch 15/30\n",
      "300/300 [==============================] - 15s 50ms/sample - loss: 0.0000e+00 - acc: 1.0000 - val_loss: 0.0000e+00 - val_acc: 1.0000\n",
      "Epoch 16/30\n",
      "300/300 [==============================] - 15s 51ms/sample - loss: 0.0000e+00 - acc: 1.0000 - val_loss: 0.0000e+00 - val_acc: 1.0000\n",
      "Epoch 17/30\n",
      "300/300 [==============================] - 14s 48ms/sample - loss: 0.0000e+00 - acc: 1.0000 - val_loss: 0.0000e+00 - val_acc: 1.0000\n",
      "Epoch 18/30\n",
      "300/300 [==============================] - 15s 50ms/sample - loss: 0.0000e+00 - acc: 1.0000 - val_loss: 0.0000e+00 - val_acc: 1.0000\n",
      "Epoch 19/30\n",
      "300/300 [==============================] - 15s 50ms/sample - loss: 0.0000e+00 - acc: 1.0000 - val_loss: 0.0000e+00 - val_acc: 1.0000\n",
      "Epoch 20/30\n",
      "300/300 [==============================] - 15s 49ms/sample - loss: 0.0000e+00 - acc: 1.0000 - val_loss: 0.0000e+00 - val_acc: 1.0000\n",
      "Epoch 21/30\n",
      "300/300 [==============================] - 15s 49ms/sample - loss: 0.0000e+00 - acc: 1.0000 - val_loss: 0.0000e+00 - val_acc: 1.0000\n",
      "Epoch 22/30\n",
      "300/300 [==============================] - 15s 50ms/sample - loss: 0.0000e+00 - acc: 1.0000 - val_loss: 0.0000e+00 - val_acc: 1.0000\n",
      "Epoch 23/30\n",
      "300/300 [==============================] - 15s 50ms/sample - loss: 0.0000e+00 - acc: 1.0000 - val_loss: 0.0000e+00 - val_acc: 1.0000\n",
      "Epoch 24/30\n",
      "300/300 [==============================] - 15s 50ms/sample - loss: 0.0000e+00 - acc: 1.0000 - val_loss: 0.0000e+00 - val_acc: 1.0000\n",
      "Epoch 25/30\n",
      "300/300 [==============================] - 15s 50ms/sample - loss: 0.0000e+00 - acc: 1.0000 - val_loss: 0.0000e+00 - val_acc: 1.0000\n",
      "Epoch 26/30\n",
      "300/300 [==============================] - 15s 50ms/sample - loss: 0.0000e+00 - acc: 1.0000 - val_loss: 0.0000e+00 - val_acc: 1.0000\n",
      "Epoch 27/30\n",
      "300/300 [==============================] - 15s 50ms/sample - loss: 0.0000e+00 - acc: 1.0000 - val_loss: 0.0000e+00 - val_acc: 1.0000\n",
      "Epoch 28/30\n",
      "300/300 [==============================] - 16s 52ms/sample - loss: 0.0000e+00 - acc: 1.0000 - val_loss: 0.0000e+00 - val_acc: 1.0000\n",
      "Epoch 29/30\n",
      "300/300 [==============================] - 15s 50ms/sample - loss: 0.0000e+00 - acc: 1.0000 - val_loss: 0.0000e+00 - val_acc: 1.0000\n",
      "Epoch 30/30\n",
      "300/300 [==============================] - 17s 55ms/sample - loss: 0.0000e+00 - acc: 1.0000 - val_loss: 0.0000e+00 - val_acc: 1.0000\n",
      "120/120 [==============================] - 2s 13ms/sample - loss: 0.0000e+00 - acc: 1.0000\n",
      "Test loss: 0.0\n",
      "Test Accuracy: 1.0\n"
     ]
    }
   ],
   "source": [
    "history=model.fit(x_train,y_train,\n",
    "            batch_size=batch_size,\n",
    "            epochs=epochs,\n",
    "            validation_data=(x_test,y_test),\n",
    "            shuffle=True)\n",
    "\n",
    "scores=model.evaluate(x_test,y_test,verbose=1)\n",
    "print('Test loss:',scores[0])\n",
    "print('Test Accuracy:',scores[1])\n",
    "\n",
    "model.save('Amazon_preTest_augmentation')"
   ]
  },
  {
   "cell_type": "code",
   "execution_count": null,
   "metadata": {},
   "outputs": [],
   "source": []
  },
  {
   "cell_type": "code",
   "execution_count": 14,
   "metadata": {},
   "outputs": [
    {
     "name": "stdout",
     "output_type": "stream",
     "text": [
      "453 images loaded\n"
     ]
    }
   ],
   "source": [
    "from os import listdir\n",
    "from os.path import isfile,join\n",
    "mypath=\".\\\\Desktop\\\\FlipRobo\\\\My_datasets\\\\\"\n",
    "file_names=[f for f in listdir(mypath)if isfile(join(mypath,f))]\n",
    "print(str(len(file_names))+' images loaded')"
   ]
  },
  {
   "cell_type": "code",
   "execution_count": 15,
   "metadata": {},
   "outputs": [],
   "source": [
    "#sharpened images for shirts\n",
    "shirts_count=0\n",
    "for i,file in enumerate(file_names):\n",
    "    if file_names[i][0]==\"s\":\n",
    "        shirts_count+=1\n",
    "        images=cv2.imread(\".\\\\Desktop\\\\FlipRobo\\\\My_datasets\\\\\"+file)\n",
    "        images=cv2.resize(image,(150,150),cv2.INTER_AREA)\n",
    "        kernel_sharpening=np.array([[-1,-1,-1],\n",
    "                                    [-1,9,-1],\n",
    "                                    [-1,-1,-1]])\n",
    "        sharpened=cv2.filter2D(images,-1,kernel_sharpening)\n",
    "        cv2.imwrite(\".\\\\Desktop\\\\data\\\\augmented\\\\shirts\\\\shirts_sharpened\"+file,sharpened)"
   ]
  },
  {
   "cell_type": "code",
   "execution_count": 16,
   "metadata": {},
   "outputs": [],
   "source": [
    "#flipped images for shirts\n",
    "shirts_count=0\n",
    "for i,file in enumerate(file_names):\n",
    "        if file_names[i][0]==\"s\":\n",
    "            shirts_count+=1\n",
    "            images=cv2.imread(\".\\\\Desktop\\\\FlipRobo\\\\My_datasets\\\\\"+file)\n",
    "        #flip image horizontally\n",
    "            flipped=cv2.flip(images,1)\n",
    "            cv2.imwrite(\".\\\\Desktop\\\\data\\\\augmented\\\\shirts\\\\shirts_flipped\"+file,flipped)\n"
   ]
  },
  {
   "cell_type": "code",
   "execution_count": 17,
   "metadata": {},
   "outputs": [],
   "source": [
    "#Rotation of the image\n",
    "shirts_count=0\n",
    "for i,file in enumerate(file_names):\n",
    "        if file_names[i][0]==\"s\":\n",
    "            shirts_count+=1\n",
    "            images=cv2.imread(\".\\\\Desktop\\\\FlipRobo\\\\My_datasets\\\\\"+file)\n",
    "        \n",
    "            height,width=images.shape[:2]\n",
    "            rotation_matrix=cv2.getRotationMatrix2D((width/2,height/2),(30),1)\n",
    "            rotated_image=cv2.warpAffine(images,rotation_matrix,(width,height))\n",
    "            cv2.imwrite(\".\\\\Desktop\\\\data\\\\augmented\\\\shirts\\\\shirts_rotated\"+file,rotated_image)"
   ]
  },
  {
   "cell_type": "code",
   "execution_count": 18,
   "metadata": {},
   "outputs": [],
   "source": [
    "#increasing Brightness for shirts\n",
    "shirts_count=0\n",
    "for i,file in enumerate(file_names):\n",
    "        if file_names[i][0]==\"s\":\n",
    "            shirts_count+=1\n",
    "        \n",
    "            images=cv2.imread(\".\\\\Desktop\\\\FlipRobo\\\\My_datasets\\\\\"+file)\n",
    "        \n",
    "            m=np.ones(images.shape,dtype='uint8')*75\n",
    "            added=cv2.add(images,m)\n",
    "            cv2.imwrite(\".\\\\Desktop\\\\data\\\\augmented\\\\shirts\\\\shirts_brightness_increase\"+file,added)"
   ]
  },
  {
   "cell_type": "code",
   "execution_count": 19,
   "metadata": {},
   "outputs": [],
   "source": [
    "#increasing Brightness for sarees\n",
    "sarees_count=0\n",
    "for i,file in enumerate(file_names):\n",
    "        if file_names[i][0]==\"S\":\n",
    "            sarees_count+=1\n",
    "        \n",
    "            images=cv2.imread(\".\\\\Desktop\\\\FlipRobo\\\\My_datasets\\\\\"+file)\n",
    "            \n",
    "            m=np.ones(images.shape,dtype='uint8')*75\n",
    "            added=cv2.add(images,m)\n",
    "            cv2.imwrite(\".\\\\Desktop\\\\data\\\\augmented\\\\sarees\\\\sarees_brightness_increase\"+file,added)"
   ]
  },
  {
   "cell_type": "code",
   "execution_count": 20,
   "metadata": {},
   "outputs": [],
   "source": [
    "#Rotation of the image for sarees\n",
    "sarees_count=0\n",
    "for i,file in enumerate(file_names):\n",
    "        if file_names[i][0]==\"S\":\n",
    "            sarees_count+=1\n",
    "            images=cv2.imread(\".\\\\Desktop\\\\FlipRobo\\\\My_datasets\\\\\"+file)\n",
    "        \n",
    "            height,width=images.shape[:2]\n",
    "            rotation_matrix=cv2.getRotationMatrix2D((width/2,height/2),(30),1)\n",
    "            rotated_image=cv2.warpAffine(images,rotation_matrix,(width,height))\n",
    "            cv2.imwrite(\".\\\\Desktop\\\\data\\\\augmented\\\\sarees\\\\sarees_rotated\"+file,rotated_image)"
   ]
  },
  {
   "cell_type": "code",
   "execution_count": 21,
   "metadata": {},
   "outputs": [],
   "source": [
    "#flipped images for sarees\n",
    "sarees_count=0\n",
    "for i,file in enumerate(file_names):\n",
    "        if file_names[i][0]==\"S\":\n",
    "            sarees_count+=1\n",
    "            images=cv2.imread(\".\\\\Desktop\\\\FlipRobo\\\\My_datasets\\\\\"+file)\n",
    "        #flip image horizontally\n",
    "            flipped=cv2.flip(images,1)\n",
    "            cv2.imwrite(\".\\\\Desktop\\\\data\\\\augmented\\\\sarees\\\\sarees_flipped\"+file,flipped)\n"
   ]
  },
  {
   "cell_type": "code",
   "execution_count": 22,
   "metadata": {},
   "outputs": [],
   "source": [
    "#sharpened images for sarees\n",
    "sarees_count=0\n",
    "for i,file in enumerate(file_names):\n",
    "    if file_names[i][0]==\"S\":\n",
    "        sarees_count+=1\n",
    "        images=cv2.imread(\".\\\\Desktop\\\\FlipRobo\\\\My_datasets\\\\\"+file)\n",
    "        images=cv2.resize(image,(150,150),cv2.INTER_AREA)\n",
    "        kernel_sharpening=np.array([[-1,-1,-1],\n",
    "                                    [-1,9,-1],\n",
    "                                    [-1,-1,-1]])\n",
    "        sharpened=cv2.filter2D(images,-1,kernel_sharpening)\n",
    "        cv2.imwrite(\".\\\\Desktop\\\\data\\\\augmented\\\\sarees\\\\sarees_sharpened\"+file,sharpened)"
   ]
  },
  {
   "cell_type": "code",
   "execution_count": 23,
   "metadata": {},
   "outputs": [],
   "source": [
    "#sharpened images for Tshirts\n",
    "Tshirts_count=0\n",
    "for i,file in enumerate(file_names):\n",
    "    if file_names[i][0]==\"T\":\n",
    "        Tshirts_count+=1\n",
    "        images=cv2.imread(\".\\\\Desktop\\\\FlipRobo\\\\My_datasets\\\\\"+file)\n",
    "        images=cv2.resize(image,(150,150),cv2.INTER_AREA)\n",
    "        kernel_sharpening=np.array([[-1,-1,-1],\n",
    "                                    [-1,9,-1],\n",
    "                                    [-1,-1,-1]])\n",
    "        sharpened=cv2.filter2D(images,-1,kernel_sharpening)\n",
    "        cv2.imwrite(\".\\\\Desktop\\\\data\\\\augmented\\\\tshirts\\\\tshirts_sharpened\"+file,sharpened)"
   ]
  },
  {
   "cell_type": "code",
   "execution_count": 24,
   "metadata": {},
   "outputs": [],
   "source": [
    "#flipped images for Tshirts\n",
    "Tshirts_count=0\n",
    "for i,file in enumerate(file_names):\n",
    "        if file_names[i][0]==\"T\":\n",
    "            Tshirts_count+=1\n",
    "            images=cv2.imread(\".\\\\Desktop\\\\FlipRobo\\\\My_datasets\\\\\"+file)\n",
    "        #flip image horizontally\n",
    "            flipped=cv2.flip(images,1)\n",
    "            cv2.imwrite(\".\\\\Desktop\\\\data\\\\augmented\\\\tshirts\\\\tshirts_flipped\"+file,flipped)"
   ]
  },
  {
   "cell_type": "code",
   "execution_count": 25,
   "metadata": {},
   "outputs": [],
   "source": [
    "#Rotation of the image for Tshirts\n",
    "Tshirts_count=0\n",
    "for i,file in enumerate(file_names):\n",
    "        if file_names[i][0]==\"T\":\n",
    "            Tshirts_count+=1\n",
    "            images=cv2.imread(\".\\\\Desktop\\\\FlipRobo\\\\My_datasets\\\\\"+file)\n",
    "        \n",
    "            height,width=images.shape[:2]\n",
    "            rotation_matrix=cv2.getRotationMatrix2D((width/2,height/2),(30),1)\n",
    "            rotated_image=cv2.warpAffine(images,rotation_matrix,(width,height))\n",
    "            cv2.imwrite(\".\\\\Desktop\\\\data\\\\augmented\\\\tshirts\\\\tshirts_rotated\"+file,rotated_image)"
   ]
  },
  {
   "cell_type": "code",
   "execution_count": 26,
   "metadata": {},
   "outputs": [],
   "source": [
    "#increasing Brightness\n",
    "Tshirts_count=0\n",
    "for i,file in enumerate(file_names):\n",
    "        if file_names[i][0]==\"T\":\n",
    "            Tshirts_count+=1\n",
    "        \n",
    "            images=cv2.imread(\".\\\\Desktop\\\\FlipRobo\\\\My_datasets\\\\\"+file)\n",
    "            \n",
    "            m=np.ones(images.shape,dtype='uint8')*75\n",
    "            added=cv2.add(images,m)\n",
    "            cv2.imwrite(\".\\\\Desktop\\\\data\\\\augmented\\\\tshirts\\\\tshirts_brightness_increased\"+file,added)"
   ]
  },
  {
   "cell_type": "code",
   "execution_count": 27,
   "metadata": {},
   "outputs": [
    {
     "name": "stdout",
     "output_type": "stream",
     "text": [
      "1812 images loaded\n"
     ]
    }
   ],
   "source": [
    "from os import listdir\n",
    "from os.path import isfile,join\n",
    "mypath=\"C:\\\\Users\\\\hp\\\\Desktop\\\\amazon\\\\\"\n",
    "file_names=[f for f in listdir(mypath)if isfile(join(mypath,f))]\n",
    "print(str(len(file_names))+' images loaded')"
   ]
  },
  {
   "cell_type": "code",
   "execution_count": 28,
   "metadata": {},
   "outputs": [],
   "source": [
    "import cv2\n",
    "import numpy as np\n",
    "import sys\n",
    "import os\n",
    "import shutil\n",
    "shirts_count=0\n",
    "Tshirts_count=0\n",
    "sarees_count=0\n",
    "training_size=500\n",
    "test_size=150\n",
    "training_images=[]\n",
    "training_labels=[]\n",
    "test_images=[]\n",
    "test_labels=[]\n",
    "size=150\n",
    "shirts_dir_train=\"C:\\\\data\\Train\\\\tshirts\"\n",
    "tshirts_dir_train=\"C:\\\\data\\Train\\\\tshirts\"\n",
    "sarees_dir_train=\"C:\\\\data\\\\Train\\\\sarees\"\n",
    "shirts_dir_val=\"C:\\\\data\\\\Validation\\shirts\"\n",
    "tshirts_dir_val=\"C:\\\\data\\Validation\\\\tshirts\"\n",
    "sarees_dir_val=\"C:\\\\data\\\\Validation\\\\sarees\"\n",
    "def make_dir(directory):\n",
    "    if os.path.exists(directory):\n",
    "        shutil.rmtree(directory)\n",
    "    os.makedirs(directory)\n",
    "make_dir(shirts_dir_train)\n",
    "make_dir(tshirts_dir_train)\n",
    "make_dir(sarees_dir_train)\n",
    "make_dir(shirts_dir_val)\n",
    "make_dir(tshirts_dir_val)\n",
    "make_dir(sarees_dir_val)\n",
    "def getzeros(number):\n",
    "    if (number> 10 and number<400):\n",
    "        return \"0\"\n",
    "    if (number<10):\n",
    "        return \"00\"\n",
    "    else :\n",
    "        return \"\"\n",
    "for i ,file in enumerate(file_names):\n",
    "    if file_names[i][0]==\"s\":\n",
    "        shirts_count+=1\n",
    "        image=cv2.imread(\"C:\\\\Users\\\\hp\\\\Desktop\\\\amazon\\\\\"+file)\n",
    "        image=cv2.resize(image,(150,150),cv2.INTER_AREA)\n",
    "        if shirts_count<=training_size:\n",
    "            training_images.append(image)\n",
    "            training_labels.append(1)\n",
    "            zeros=getzeros(shirts_count)\n",
    "            cv2.imwrite(shirts_dir_train+\"shirts\"+str(zeros)+str(shirts_count)+\".jpg\",image)\n",
    "        if shirts_count>training_size and shirts_count<=training_size+test_size:\n",
    "            test_images.append(image)\n",
    "            test_labels.append(1)\n",
    "            zeros=getzeros(shirts_count-400)\n",
    "            cv2.imwrite(shirts_dir_val+\"shirts\"+str(zeros)+str(shirts_count)+\".jpg\",image)\n",
    "    if file_names[i][0]==\"T\":\n",
    "            Tshirts_count+=1\n",
    "            image=cv2.imread(\"C:\\\\Users\\\\hp\\\\Desktop\\\\amazon\\\\\"+file)\n",
    "            image=cv2.resize(image,(150,150),cv2.INTER_AREA)\n",
    "            if Tshirts_count<=training_size:\n",
    "                training_images.append(image)\n",
    "                training_labels.append(1)\n",
    "                zeros=getzeros(Tshirts_count)\n",
    "                cv2.imwrite(tshirts_dir_train+\"tshirts\"+str(zeros)+str(tshirts_count)+\".jpg\",image)\n",
    "            if Tshirts_count>training_size and Tshirts_count<=training_size+test_size:\n",
    "                test_images.append(image)\n",
    "                test_labels.append(1)\n",
    "                zeros=getzeros(Tshirts_count-400)\n",
    "            cv2.imwrite(tshirts_dir_val+\"tshirts\"+str(zeros)+str(tshirts_count)+\".jpg\",image)\n",
    "    if file_names[i][0]==\"S\":\n",
    "        sarees_count+=1\n",
    "        image=cv2.imread(\"C:\\\\Users\\\\hp\\\\Desktop\\\\amazon\\\\\"+file)\n",
    "        image=cv2.resize(image,(150,150),cv2.INTER_AREA)\n",
    "        if sarees_count<=training_size:\n",
    "            training_images.append(image)\n",
    "            training_labels.append(1)\n",
    "            zeros=getzeros(sarees_count)\n",
    "            cv2.imwrite(sarees_dir_train+\"sarees\"+str(zeros)+str(sarees_count)+\".jpg\",image)\n",
    "        if sarees_count>training_size and sarees_count<=training_size+test_size:\n",
    "            test_images.append(image)\n",
    "            test_labels.append(1)\n",
    "            zeros=getzeros(sarees_count-400)\n",
    "            cv2.imwrite(sarees_dir_val+\"sarees\"+str(zeros)+str(sarees_count)+\".jpg\",image)\n",
    "    if shirts_count==training_size+test_size and Tshirts_count==training_size+test_size and sarees_count==training_size+test_size:\n",
    "        break\n"
   ]
  },
  {
   "cell_type": "code",
   "execution_count": 29,
   "metadata": {},
   "outputs": [],
   "source": [
    "np.savez(\"amazon_augmented_training_data.npz\",np.array(training_images))\n",
    "np.savez(\"amazon_augmented_training_labels.npz\",np.array(training_labels))\n",
    "np.savez(\"amazon_augmented_test_data.npz\",np.array(test_images))\n",
    "np.savez(\"amazon_augmented_test_labels.npz\",np.array(test_labels))       "
   ]
  },
  {
   "cell_type": "code",
   "execution_count": 30,
   "metadata": {},
   "outputs": [],
   "source": [
    "import numpy as np\n",
    "def load_data(datasetname):\n",
    "    npzfile=np.load(\"amazon_augmented_training_data.npz\")\n",
    "    train=npzfile['arr_0']\n",
    "    npzfile=np.load(\"amazon_augmented_training_labels.npz\")\n",
    "    train_labels=npzfile['arr_0']\n",
    "    npzfile=np.load(\"amazon_augmented_test_data.npz\")\n",
    "    test=npzfile['arr_0']\n",
    "    npzfile=np.load(\"amazon_augmented_test_labels.npz\")\n",
    "    test_labels=npzfile['arr_0']\n",
    "    return (train,train_labels),(test,test_labels)  "
   ]
  },
  {
   "cell_type": "code",
   "execution_count": 31,
   "metadata": {},
   "outputs": [
    {
     "name": "stdout",
     "output_type": "stream",
     "text": [
      "1-sarees\n",
      "2-sarees\n",
      "3-sarees\n",
      "4-sarees\n",
      "5-sarees\n",
      "6-sarees\n",
      "7-sarees\n",
      "8-sarees\n",
      "9-sarees\n",
      "10-sarees\n"
     ]
    }
   ],
   "source": [
    "for i in range(1,11):\n",
    "    random=np.random.randint(0,len(training_images))\n",
    "    cv2.imshow(\"image_\"+str(i),training_images[random])\n",
    "    if training_labels[random]==0:\n",
    "        print(str(i)+\"-shirts\")\n",
    "    if training_labels[random]==1:\n",
    "        print(str(i)+\"-sarees\")\n",
    "    else:\n",
    "        print(str(i)+\"-Tshirts\")\n",
    "    cv2.waitKey(0)\n",
    "cv2.destroyAllWindows()"
   ]
  },
  {
   "cell_type": "code",
   "execution_count": 32,
   "metadata": {},
   "outputs": [
    {
     "name": "stdout",
     "output_type": "stream",
     "text": [
      "(500, 150, 150, 3)\n",
      "(150, 150, 150, 3)\n",
      "(500, 1)\n",
      "(150, 1)\n"
     ]
    }
   ],
   "source": [
    "(x_train,y_train),(x_test,y_test)=load_data(\"amazonaugmented\")\n",
    "y_train=y_train.reshape(y_train.shape[0],1)\n",
    "y_test=y_test.reshape(y_test.shape[0],1)\n",
    "x_train=x_train.astype(\"float32\")\n",
    "x_test=x_test.astype(\"float32\")\n",
    "x_train/=255\n",
    "x_test/=255\n",
    "print(x_train.shape)\n",
    "print(x_test.shape)\n",
    "print(y_train.shape)\n",
    "print(y_test.shape)"
   ]
  },
  {
   "cell_type": "code",
   "execution_count": 33,
   "metadata": {},
   "outputs": [
    {
     "name": "stdout",
     "output_type": "stream",
     "text": [
      "Model: \"sequential_1\"\n",
      "_________________________________________________________________\n",
      "Layer (type)                 Output Shape              Param #   \n",
      "=================================================================\n",
      "conv2d_3 (Conv2D)            (None, 148, 148, 32)      896       \n",
      "_________________________________________________________________\n",
      "max_pooling2d_3 (MaxPooling2 (None, 74, 74, 32)        0         \n",
      "_________________________________________________________________\n",
      "dropout_4 (Dropout)          (None, 74, 74, 32)        0         \n",
      "_________________________________________________________________\n",
      "conv2d_4 (Conv2D)            (None, 72, 72, 32)        9248      \n",
      "_________________________________________________________________\n",
      "max_pooling2d_4 (MaxPooling2 (None, 36, 36, 32)        0         \n",
      "_________________________________________________________________\n",
      "dropout_5 (Dropout)          (None, 36, 36, 32)        0         \n",
      "_________________________________________________________________\n",
      "conv2d_5 (Conv2D)            (None, 34, 34, 64)        18496     \n",
      "_________________________________________________________________\n",
      "max_pooling2d_5 (MaxPooling2 (None, 17, 17, 64)        0         \n",
      "_________________________________________________________________\n",
      "dropout_6 (Dropout)          (None, 17, 17, 64)        0         \n",
      "_________________________________________________________________\n",
      "flatten_1 (Flatten)          (None, 18496)             0         \n",
      "_________________________________________________________________\n",
      "dense_2 (Dense)              (None, 64)                1183808   \n",
      "_________________________________________________________________\n",
      "dropout_7 (Dropout)          (None, 64)                0         \n",
      "_________________________________________________________________\n",
      "dense_3 (Dense)              (None, 3)                 195       \n",
      "=================================================================\n",
      "Total params: 1,212,643\n",
      "Trainable params: 1,212,643\n",
      "Non-trainable params: 0\n",
      "_________________________________________________________________\n",
      "None\n"
     ]
    }
   ],
   "source": [
    "#build the model with augmented datasets\n",
    "from __future__ import print_function\n",
    "import numpy as np\n",
    "import tensorflow as tf\n",
    "from tensorflow import keras\n",
    "from tensorflow.keras.models import Sequential\n",
    "from tensorflow.keras.layers import Dense,Dropout,Activation,Flatten,Conv2D,MaxPooling2D\n",
    "from keras.utils import np_utils\n",
    "from keras import optimizers\n",
    "import matplotlib.pyplot as plt\n",
    "from tensorflow.keras.preprocessing.image import ImageDataGenerator\n",
    "from tensorflow.keras.utils import plot_model\n",
    "import os\n",
    "batch_size=16\n",
    "input_shape=(150,150,3)\n",
    "epochs=10\n",
    "img_rows=x_train[0].shape[0]\n",
    "img_cols=x_train[1].shape[0]\n",
    "\n",
    "model=Sequential()\n",
    "\n",
    "model.add(Conv2D(32,(3,3),input_shape=input_shape,activation='relu'))\n",
    "model.add(MaxPooling2D(pool_size=(2,2)))\n",
    "model.add(Dropout(0.2))\n",
    "model.add(Conv2D(32,(3,3),activation='relu'))\n",
    "model.add(MaxPooling2D(pool_size=(2,2)))\n",
    "model.add(Dropout(0.2))\n",
    "model.add(Conv2D(64,(3,3),activation='relu'))\n",
    "model.add(MaxPooling2D(pool_size=(2,2)))\n",
    "model.add(Dropout(0.2))\n",
    "    \n",
    "model.add(Flatten())\n",
    "model.add(Dense(64,activation='relu'))\n",
    "model.add(Dropout(0.2))\n",
    "model.add(Dense(3,activation='softmax'))\n",
    "    \n",
    "print(model.summary())\n",
    "  \n",
    "model.compile(optimizer='adam',metrics=['accuracy'],loss='sparse_categorical_crossentropy')"
   ]
  },
  {
   "cell_type": "code",
   "execution_count": 34,
   "metadata": {},
   "outputs": [
    {
     "name": "stdout",
     "output_type": "stream",
     "text": [
      "Train on 500 samples, validate on 150 samples\n",
      "Epoch 1/10\n",
      "500/500 [==============================] - 26s 52ms/sample - loss: 0.0257 - acc: 0.9940 - val_loss: 0.0000e+00 - val_acc: 1.0000\n",
      "Epoch 2/10\n",
      "500/500 [==============================] - 24s 48ms/sample - loss: 0.0000e+00 - acc: 1.0000 - val_loss: 0.0000e+00 - val_acc: 1.0000\n",
      "Epoch 3/10\n",
      "500/500 [==============================] - 24s 48ms/sample - loss: 0.0000e+00 - acc: 1.0000 - val_loss: 0.0000e+00 - val_acc: 1.0000\n",
      "Epoch 4/10\n",
      "500/500 [==============================] - 24s 48ms/sample - loss: 0.0000e+00 - acc: 1.0000 - val_loss: 0.0000e+00 - val_acc: 1.0000\n",
      "Epoch 5/10\n",
      "500/500 [==============================] - 24s 48ms/sample - loss: 0.0000e+00 - acc: 1.0000 - val_loss: 0.0000e+00 - val_acc: 1.0000\n",
      "Epoch 6/10\n",
      "500/500 [==============================] - 24s 48ms/sample - loss: 0.0000e+00 - acc: 1.0000 - val_loss: 0.0000e+00 - val_acc: 1.0000\n",
      "Epoch 7/10\n",
      "500/500 [==============================] - 25s 49ms/sample - loss: 0.0000e+00 - acc: 1.0000 - val_loss: 0.0000e+00 - val_acc: 1.0000\n",
      "Epoch 8/10\n",
      "500/500 [==============================] - 24s 48ms/sample - loss: 0.0000e+00 - acc: 1.0000 - val_loss: 0.0000e+00 - val_acc: 1.0000\n",
      "Epoch 9/10\n",
      "500/500 [==============================] - 25s 49ms/sample - loss: 0.0000e+00 - acc: 1.0000 - val_loss: 0.0000e+00 - val_acc: 1.0000\n",
      "Epoch 10/10\n",
      "500/500 [==============================] - 24s 48ms/sample - loss: 0.0000e+00 - acc: 1.0000 - val_loss: 0.0000e+00 - val_acc: 1.0000\n",
      "150/150 [==============================] - 2s 10ms/sample - loss: 0.0000e+00 - acc: 1.0000\n",
      "Test loss: 0.0\n",
      "Test Accuracy 1.0\n"
     ]
    }
   ],
   "source": [
    "history=model.fit(x_train,y_train,batch_size=batch_size,epochs=epochs,validation_data=(x_test,y_test),shuffle=True)\n",
    "model.save(\"augmented_datasets\")\n",
    "scores=model.evaluate(x_test,y_test,verbose=1)\n",
    "print('Test loss:',scores[0])\n",
    "print(\"Test Accuracy\",scores[1])"
   ]
  },
  {
   "cell_type": "code",
   "execution_count": 35,
   "metadata": {},
   "outputs": [
    {
     "data": {
      "image/png": "[encoded data removed]",
      "text/plain": [
       "<Figure size 432x288 with 1 Axes>"
      ]
     },
     "metadata": {
      "needs_background": "light"
     },
     "output_type": "display_data"
    }
   ],
   "source": [
    "#plotting accuracy chart\n",
    "\n",
    "history_dict=history.history\n",
    "\n",
    "loss_values=history_dict['acc']\n",
    "val_loss_values=history_dict['val_acc']\n",
    "epochs=range(1,len(loss_values)+1)\n",
    "\n",
    "line1=plt.plot(epochs,val_loss_values,label='Validation Accuracy')\n",
    "line2=plt.plot(epochs,loss_values,label='Training Accuracy')\n",
    "\n",
    "plt.setp(line1,linewidth=1.0,marker='+',markersize=10.0)\n",
    "plt.setp(line2,linewidth=1.0,marker='4',markersize=10.0)\n",
    "\n",
    "plt.xlabel('Epochs')\n",
    "plt.ylabel('Loss')\n",
    "plt.grid(True)\n",
    "plt.legend()\n",
    "plt.show()"
   ]
  },
  {
   "cell_type": "code",
   "execution_count": null,
   "metadata": {},
   "outputs": [],
   "source": []
  },
  {
   "cell_type": "code",
   "execution_count": null,
   "metadata": {},
   "outputs": [],
   "source": []
  }
 ],
 "metadata": {
  "kernelspec": {
   "display_name": "Python 3",
   "language": "python",
   "name": "python3"
  },
  "language_info": {
   "codemirror_mode": {
    "name": "ipython",
    "version": 3
   },
   "file_extension": ".py",
   "mimetype": "text/x-python",
   "name": "python",
   "nbconvert_exporter": "python",
   "pygments_lexer": "ipython3",
   "version": "3.6.10"
  }
 },
 "nbformat": 4,
 "nbformat_minor": 4
}
