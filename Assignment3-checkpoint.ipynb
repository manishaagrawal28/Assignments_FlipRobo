{
 "cells": [
  {
   "cell_type": "markdown",
   "metadata": {},
   "source": [
    "# Data_Augmentation on Scrapped images from Amazon"
   ]
  },
  {
   "cell_type": "code",
   "execution_count": 2,
   "metadata": {},
   "outputs": [],
   "source": [
    "#importing libraries\n",
    "import numpy as np\n",
    "import cv2\n",
    "import os\n",
    "import shutil"
   ]
  },
  {
   "cell_type": "code",
   "execution_count": 3,
   "metadata": {},
   "outputs": [
    {
     "name": "stdout",
     "output_type": "stream",
     "text": [
      "453images loaded\n"
     ]
    }
   ],
   "source": [
    "from os import listdir\n",
    "from os.path import isfile,join\n",
    "\n",
    "mypath=\"./Desktop/FlipRobo/My_datasets/\"\n",
    "file_names=[f for f in listdir(mypath)if isfile(join(mypath,f))]\n",
    "print(str(len(file_names))+'images loaded')"
   ]
  },
  {
   "cell_type": "code",
   "execution_count": 4,
   "metadata": {},
   "outputs": [],
   "source": [
    "shirts_count=0\n",
    "Tshirts_count=0\n",
    "sarees_count=0\n",
    "\n",
    "training_size=320\n",
    "test_size=133\n",
    "\n",
    "training_images=[]\n",
    "training_labels=[]\n",
    "test_images=[]\n",
    "test_labels=[]\n",
    "\n",
    "size=150"
   ]
  },
  {
   "cell_type": "code",
   "execution_count": 5,
   "metadata": {},
   "outputs": [],
   "source": [
    "shirts_train_dir='./FlipRobo/data/train/shirts/'\n",
    "Tshirts_train_dir='./FlipRobo/data/train/Tshirts/'\n",
    "sarees_train_dir='./FlipRobo/data/train/sarees/'\n",
    "\n",
    "shirts_test_dir='./FlipRobo/data/test/shirts/'\n",
    "Tshirts_test_dir='./FlipRobo/data/test/Tshirts/'\n",
    "sarees_test_dir='./FlipRobo/data/test/sarees/'\n",
    "\n",
    "def make_dir(directory):\n",
    "    if os.path.exists(directory):\n",
    "        shutil.rmtree(directory)\n",
    "    os.makedirs(directory)\n",
    "    \n",
    "make_dir(shirts_train_dir)\n",
    "make_dir(Tshirts_train_dir)\n",
    "make_dir(sarees_train_dir)\n",
    "make_dir(shirts_test_dir)\n",
    "make_dir(Tshirts_test_dir)\n",
    "make_dir(sarees_test_dir)"
   ]
  },
  {
   "cell_type": "code",
   "execution_count": 6,
   "metadata": {},
   "outputs": [],
   "source": [
    "#Extraction of Training and Test Data\n",
    "def getzeros(number):\n",
    "    if (number> 10 and number<100):\n",
    "        return \"0\"\n",
    "    if (number<10):\n",
    "        return \"00\"\n",
    "    else :\n",
    "        return \"\"\n",
    "for i ,file in enumerate(file_names):\n",
    "    \n",
    "    if file_names[i][0]==\"s\":\n",
    "        shirts_count+=1\n",
    "        image=cv2.imread(mypath+file)\n",
    "        image=cv2.resize(image,(size,size),interpolation=cv2.INTER_AREA)\n",
    "        if shirts_count<=training_size:\n",
    "            training_images.append(image)\n",
    "            training_labels.append(1)\n",
    "            zeros=getzeros(shirts_count)\n",
    "            cv2.imwrite(shirts_train_dir+\"shirts\"+str(zeros)+str(shirts_count)+\".jpg\",image)\n",
    "        if shirts_count>training_size and shirts_count<=training_size+test_size:\n",
    "            test_images.append(image)\n",
    "            test_labels.append(1)\n",
    "            zeros=getzeros(shirts_count-100)\n",
    "            cv2.imwrite(shirts_test_dir+\"shirts\"+str(zeros)+str(shirts_count)+\".jpg\",image)\n",
    "    if file_names[i][0]==\"T\":\n",
    "            Tshirts_count+=1\n",
    "            image=cv2.imread(mypath+file)\n",
    "            image=cv2.resize(image,(size,size),interpolation=cv2.INTER_AREA)\n",
    "            if Tshirts_count<=training_size:\n",
    "                training_images.append(image)\n",
    "                training_labels.append(1)\n",
    "                zeros=getzeros(Tshirts_count)\n",
    "                cv2.imwrite(Tshirts_train_dir+\"Tshirts\"+str(zeros)+str(Tshirts_count)+\".jpg\",image)\n",
    "            if Tshirts_count>training_size and Tshirts_count<=training_size+test_size:\n",
    "                test_images.append(image)\n",
    "                test_labels.append(1)\n",
    "                zeros=getzeros(Tshirts_count-100)\n",
    "                cv2.imwrite(Tshirts_test_dir+\"Tshirts\"+str(zeros)+str(Tshirts_count)+\".jpg\",image)\n",
    "    if file_names[i][0]==\"S\":\n",
    "        sarees_count+=1\n",
    "        image=cv2.imread(mypath+file)\n",
    "        image=cv2.resize(image,(size,size),interpolation=cv2.INTER_AREA)\n",
    "        if sarees_count<=training_size:\n",
    "            training_images.append(image)\n",
    "            training_labels.append(1)\n",
    "            zeros=getzeros(sarees_count)\n",
    "            cv2.imwrite(sarees_train_dir+\"Sarees\"+str(zeros)+str(sarees_count)+\".jpg\",image)\n",
    "        if sarees_count>training_size and sarees_count<=training_size+test_size:\n",
    "            test_images.append(image)\n",
    "            test_labels.append(1)\n",
    "            zeros=getzeros(sarees_count-100)\n",
    "            cv2.imwrite(sarees_test_dir+\"Sarees\"+str(zeros)+str(sarees_count)+\".jpg\",image)\n",
    "    \n",
    "    if shirts_count==training_size+test_size and Tshirts_count==training_size+test_size and sarees_count==training_size+test_size:\n",
    "            break\n",
    "        \n"
   ]
  },
  {
   "cell_type": "code",
   "execution_count": 7,
   "metadata": {},
   "outputs": [],
   "source": [
    "#save our loaded data as npz files\n",
    "np.savez(\"Amazon_training_data.npz\",np.array(training_images))\n",
    "np.savez(\"Amazon_training_labels.npz\",np.array(training_labels))\n",
    "np.savez(\"Amazon_test_data.npz\",np.array(test_images))\n",
    "np.savez(\"Amazon_test_labels.npz\",np.array(test_labels))"
   ]
  },
  {
   "cell_type": "code",
   "execution_count": 8,
   "metadata": {},
   "outputs": [],
   "source": [
    "import numpy as np\n",
    "\n",
    "def load_data(datasetname):\n",
    "    npzfile=np.load(\"Amazon_training_data.npz\")\n",
    "    train=npzfile['arr_0']\n",
    "    \n",
    "    npzfile=np.load(\"Amazon_training_labels.npz\")\n",
    "    train_labels=npzfile['arr_0']\n",
    "    \n",
    "    npzfile=np.load(\"Amazon_test_data.npz\")\n",
    "    test=npzfile['arr_0']\n",
    "    \n",
    "    npzfile=np.load(\"Amazon_test_labels.npz\")\n",
    "    test_labels=npzfile['arr_0']\n",
    "    return (train,train_labels),(test,test_labels)  "
   ]
  },
  {
   "cell_type": "code",
   "execution_count": 8,
   "metadata": {},
   "outputs": [
    {
     "name": "stdout",
     "output_type": "stream",
     "text": [
      "1-Tshirts\n",
      "2-Tshirts\n",
      "3-Tshirts\n",
      "4-Tshirts\n",
      "5-Tshirts\n",
      "6-Tshirts\n",
      "7-Tshirts\n",
      "8-Tshirts\n",
      "9-Tshirts\n",
      "10-Tshirts\n"
     ]
    }
   ],
   "source": [
    "#show the loaded data\n",
    "for i in range(1,11):\n",
    "    random=np.random.randint(0,len(training_images))\n",
    "    cv2.imshow(\"image_\"+str(i),training_images[random])\n",
    "    if training_labels[random]==0:\n",
    "        print(str(i)+\"-shirts\")\n",
    "    elif training_labels[random]==1:\n",
    "           print(str(i)+\"-Tshirts\")\n",
    "    else:\n",
    "        print(str(i)+\"-sarees\")\n",
    "    cv2.waitKey(0)\n",
    "cv2.destroyAllWindows()"
   ]
  },
  {
   "cell_type": "code",
   "execution_count": 11,
   "metadata": {},
   "outputs": [
    {
     "name": "stdout",
     "output_type": "stream",
     "text": [
      "(453, 150, 150, 3)\n",
      "(453, 1)\n",
      "(0,)\n",
      "(0, 1)\n"
     ]
    }
   ],
   "source": [
    "#make format that accepted by Keras\n",
    "(x_train,y_train),(x_test,y_test)=load_data('Amazon')\n",
    "y_train=y_train.reshape(y_train.shape[0],1)\n",
    "y_test=y_test.reshape(y_test.shape[0],1)\n",
    "\n",
    "x_train=x_train.astype('float32')\n",
    "x_test=x_test.astype('float32')\n",
    "\n",
    "x_train /= 255\n",
    "x_test /= 255\n",
    "\n",
    "print(x_train.shape)\n",
    "print(y_train.shape)\n",
    "print(x_test.shape)\n",
    "print(y_test.shape)"
   ]
  },
  {
   "cell_type": "code",
   "execution_count": 18,
   "metadata": {},
   "outputs": [],
   "source": [
    "#build a model\n",
    "#importing the libraries\n",
    "\n",
    "from __future__ import print_function\n",
    "import tensorflow as tf\n",
    "from tensorflow import keras\n",
    "from tensorflow.keras.models import Sequential\n",
    "from tensorflow.keras.layers import Dense,Dropout,Activation,Flatten,Conv2D,MaxPooling2D\n",
    "from tensorflow.keras.utils import plot_model\n",
    "from keras import optimizers\n",
    "\n",
    "from tensorflow.keras.preprocessing.image import ImageDataGenerator"
   ]
  },
  {
   "cell_type": "code",
   "execution_count": 19,
   "metadata": {},
   "outputs": [],
   "source": [
    "img_rows=x_train[0].shape[0]\n",
    "img_cols=x_train[1].shape[0]\n",
    "input_shape=(img_rows,img_cols,3)\n",
    "\n",
    "batch_size=32\n",
    "epochs=30"
   ]
  },
  {
   "cell_type": "code",
   "execution_count": 20,
   "metadata": {},
   "outputs": [
    {
     "name": "stdout",
     "output_type": "stream",
     "text": [
      "Model: \"sequential_1\"\n",
      "_________________________________________________________________\n",
      "Layer (type)                 Output Shape              Param #   \n",
      "=================================================================\n",
      "conv2d_3 (Conv2D)            (None, 148, 148, 32)      896       \n",
      "_________________________________________________________________\n",
      "max_pooling2d_3 (MaxPooling2 (None, 74, 74, 32)        0         \n",
      "_________________________________________________________________\n",
      "dropout_4 (Dropout)          (None, 74, 74, 32)        0         \n",
      "_________________________________________________________________\n",
      "conv2d_4 (Conv2D)            (None, 72, 72, 32)        9248      \n",
      "_________________________________________________________________\n",
      "max_pooling2d_4 (MaxPooling2 (None, 36, 36, 32)        0         \n",
      "_________________________________________________________________\n",
      "dropout_5 (Dropout)          (None, 36, 36, 32)        0         \n",
      "_________________________________________________________________\n",
      "conv2d_5 (Conv2D)            (None, 34, 34, 64)        18496     \n",
      "_________________________________________________________________\n",
      "max_pooling2d_5 (MaxPooling2 (None, 17, 17, 64)        0         \n",
      "_________________________________________________________________\n",
      "dropout_6 (Dropout)          (None, 17, 17, 64)        0         \n",
      "_________________________________________________________________\n",
      "flatten_1 (Flatten)          (None, 18496)             0         \n",
      "_________________________________________________________________\n",
      "dense_2 (Dense)              (None, 128)               2367616   \n",
      "_________________________________________________________________\n",
      "dropout_7 (Dropout)          (None, 128)               0         \n",
      "_________________________________________________________________\n",
      "dense_3 (Dense)              (None, 3)                 387       \n",
      "=================================================================\n",
      "Total params: 2,396,643\n",
      "Trainable params: 2,396,643\n",
      "Non-trainable params: 0\n",
      "_________________________________________________________________\n",
      "None\n"
     ]
    }
   ],
   "source": [
    "model=Sequential()\n",
    "\n",
    "model.add(Conv2D(32,(3,3),input_shape=input_shape,activation='relu'))\n",
    "model.add(MaxPooling2D(pool_size=(2,2)))\n",
    "model.add(Dropout(0.2))\n",
    "model.add(Conv2D(32,(3,3),activation='relu'))\n",
    "model.add(MaxPooling2D(pool_size=(2,2)))\n",
    "model.add(Dropout(0.2))\n",
    "model.add(Conv2D(64,(3,3),activation='relu'))\n",
    "model.add(MaxPooling2D(pool_size=(2,2)))\n",
    "model.add(Dropout(0.2))\n",
    "    \n",
    "model.add(Flatten())\n",
    "model.add(Dense(128,activation='relu'))\n",
    "model.add(Dropout(0.2))\n",
    "model.add(Dense(3,activation='softmax'))\n",
    "    \n",
    "print(model.summary())\n",
    "  \n",
    "model.compile(optimizer='adam',metrics=['accuracy'],loss='sparse_categorical_crossentropy')"
   ]
  },
  {
   "cell_type": "code",
   "execution_count": 21,
   "metadata": {},
   "outputs": [
    {
     "ename": "ValueError",
     "evalue": "Error when checking input: expected conv2d_3_input to have 4 dimensions, but got array with shape (0, 1)",
     "output_type": "error",
     "traceback": [
      "\u001b[1;31m---------------------------------------------------------------------------\u001b[0m",
      "\u001b[1;31mValueError\u001b[0m                                Traceback (most recent call last)",
      "\u001b[1;32m<ipython-input-21-cbad43f556e9>\u001b[0m in \u001b[0;36m<module>\u001b[1;34m\u001b[0m\n\u001b[0;32m      3\u001b[0m             \u001b[0mepochs\u001b[0m\u001b[1;33m=\u001b[0m\u001b[0mepochs\u001b[0m\u001b[1;33m,\u001b[0m\u001b[1;33m\u001b[0m\u001b[1;33m\u001b[0m\u001b[0m\n\u001b[0;32m      4\u001b[0m             \u001b[0mvalidation_data\u001b[0m\u001b[1;33m=\u001b[0m\u001b[1;33m(\u001b[0m\u001b[0mx_test\u001b[0m\u001b[1;33m,\u001b[0m\u001b[0my_test\u001b[0m\u001b[1;33m)\u001b[0m\u001b[1;33m,\u001b[0m\u001b[1;33m\u001b[0m\u001b[1;33m\u001b[0m\u001b[0m\n\u001b[1;32m----> 5\u001b[1;33m             shuffle=True)\n\u001b[0m\u001b[0;32m      6\u001b[0m \u001b[1;33m\u001b[0m\u001b[0m\n\u001b[0;32m      7\u001b[0m \u001b[0mscores\u001b[0m\u001b[1;33m=\u001b[0m\u001b[0mmodel\u001b[0m\u001b[1;33m.\u001b[0m\u001b[0mevaluate\u001b[0m\u001b[1;33m(\u001b[0m\u001b[0mx_test\u001b[0m\u001b[1;33m,\u001b[0m\u001b[0my_test\u001b[0m\u001b[1;33m,\u001b[0m\u001b[0mverbose\u001b[0m\u001b[1;33m=\u001b[0m\u001b[1;36m1\u001b[0m\u001b[1;33m)\u001b[0m\u001b[1;33m\u001b[0m\u001b[1;33m\u001b[0m\u001b[0m\n",
      "\u001b[1;32m~\\anaconda3\\envs\\Virtual\\lib\\site-packages\\tensorflow_core\\python\\keras\\engine\\training.py\u001b[0m in \u001b[0;36mfit\u001b[1;34m(self, x, y, batch_size, epochs, verbose, callbacks, validation_split, validation_data, shuffle, class_weight, sample_weight, initial_epoch, steps_per_epoch, validation_steps, validation_freq, max_queue_size, workers, use_multiprocessing, **kwargs)\u001b[0m\n\u001b[0;32m    725\u001b[0m         \u001b[0mmax_queue_size\u001b[0m\u001b[1;33m=\u001b[0m\u001b[0mmax_queue_size\u001b[0m\u001b[1;33m,\u001b[0m\u001b[1;33m\u001b[0m\u001b[1;33m\u001b[0m\u001b[0m\n\u001b[0;32m    726\u001b[0m         \u001b[0mworkers\u001b[0m\u001b[1;33m=\u001b[0m\u001b[0mworkers\u001b[0m\u001b[1;33m,\u001b[0m\u001b[1;33m\u001b[0m\u001b[1;33m\u001b[0m\u001b[0m\n\u001b[1;32m--> 727\u001b[1;33m         use_multiprocessing=use_multiprocessing)\n\u001b[0m\u001b[0;32m    728\u001b[0m \u001b[1;33m\u001b[0m\u001b[0m\n\u001b[0;32m    729\u001b[0m   def evaluate(self,\n",
      "\u001b[1;32m~\\anaconda3\\envs\\Virtual\\lib\\site-packages\\tensorflow_core\\python\\keras\\engine\\training_arrays.py\u001b[0m in \u001b[0;36mfit\u001b[1;34m(self, model, x, y, batch_size, epochs, verbose, callbacks, validation_split, validation_data, shuffle, class_weight, sample_weight, initial_epoch, steps_per_epoch, validation_steps, validation_freq, **kwargs)\u001b[0m\n\u001b[0;32m    645\u001b[0m     \u001b[1;32mif\u001b[0m \u001b[0mvalidation_data\u001b[0m\u001b[1;33m:\u001b[0m\u001b[1;33m\u001b[0m\u001b[1;33m\u001b[0m\u001b[0m\n\u001b[0;32m    646\u001b[0m       val_x, val_y, val_sample_weights = model._prepare_validation_data(\n\u001b[1;32m--> 647\u001b[1;33m           validation_data, batch_size, validation_steps)\n\u001b[0m\u001b[0;32m    648\u001b[0m     \u001b[1;32melif\u001b[0m \u001b[0mvalidation_split\u001b[0m \u001b[1;32mand\u001b[0m \u001b[1;36m0.\u001b[0m \u001b[1;33m<\u001b[0m \u001b[0mvalidation_split\u001b[0m \u001b[1;33m<\u001b[0m \u001b[1;36m1.\u001b[0m\u001b[1;33m:\u001b[0m\u001b[1;33m\u001b[0m\u001b[1;33m\u001b[0m\u001b[0m\n\u001b[0;32m    649\u001b[0m       (x, y, sample_weights, val_x, val_y,\n",
      "\u001b[1;32m~\\anaconda3\\envs\\Virtual\\lib\\site-packages\\tensorflow_core\\python\\keras\\engine\\training.py\u001b[0m in \u001b[0;36m_prepare_validation_data\u001b[1;34m(self, validation_data, batch_size, validation_steps)\u001b[0m\n\u001b[0;32m   1491\u001b[0m         \u001b[0mbatch_size\u001b[0m\u001b[1;33m=\u001b[0m\u001b[0mbatch_size\u001b[0m\u001b[1;33m,\u001b[0m\u001b[1;33m\u001b[0m\u001b[1;33m\u001b[0m\u001b[0m\n\u001b[0;32m   1492\u001b[0m         \u001b[0msteps\u001b[0m\u001b[1;33m=\u001b[0m\u001b[0mvalidation_steps\u001b[0m\u001b[1;33m,\u001b[0m\u001b[1;33m\u001b[0m\u001b[1;33m\u001b[0m\u001b[0m\n\u001b[1;32m-> 1493\u001b[1;33m         steps_name='validation_steps')\n\u001b[0m\u001b[0;32m   1494\u001b[0m \u001b[1;33m\u001b[0m\u001b[0m\n\u001b[0;32m   1495\u001b[0m   def _validate_compile_param_for_distribution_strategy(\n",
      "\u001b[1;32m~\\anaconda3\\envs\\Virtual\\lib\\site-packages\\tensorflow_core\\python\\keras\\engine\\training.py\u001b[0m in \u001b[0;36m_standardize_user_data\u001b[1;34m(self, x, y, sample_weight, class_weight, batch_size, check_steps, steps_name, steps, validation_split, shuffle, extract_tensors_from_dataset)\u001b[0m\n\u001b[0;32m   2469\u001b[0m           \u001b[0mfeed_input_shapes\u001b[0m\u001b[1;33m,\u001b[0m\u001b[1;33m\u001b[0m\u001b[1;33m\u001b[0m\u001b[0m\n\u001b[0;32m   2470\u001b[0m           \u001b[0mcheck_batch_axis\u001b[0m\u001b[1;33m=\u001b[0m\u001b[1;32mFalse\u001b[0m\u001b[1;33m,\u001b[0m  \u001b[1;31m# Don't enforce the batch size.\u001b[0m\u001b[1;33m\u001b[0m\u001b[1;33m\u001b[0m\u001b[0m\n\u001b[1;32m-> 2471\u001b[1;33m           exception_prefix='input')\n\u001b[0m\u001b[0;32m   2472\u001b[0m \u001b[1;33m\u001b[0m\u001b[0m\n\u001b[0;32m   2473\u001b[0m     \u001b[1;31m# Get typespecs for the input data and sanitize it if necessary.\u001b[0m\u001b[1;33m\u001b[0m\u001b[1;33m\u001b[0m\u001b[1;33m\u001b[0m\u001b[0m\n",
      "\u001b[1;32m~\\anaconda3\\envs\\Virtual\\lib\\site-packages\\tensorflow_core\\python\\keras\\engine\\training_utils.py\u001b[0m in \u001b[0;36mstandardize_input_data\u001b[1;34m(data, names, shapes, check_batch_axis, exception_prefix)\u001b[0m\n\u001b[0;32m    561\u001b[0m                            \u001b[1;34m': expected '\u001b[0m \u001b[1;33m+\u001b[0m \u001b[0mnames\u001b[0m\u001b[1;33m[\u001b[0m\u001b[0mi\u001b[0m\u001b[1;33m]\u001b[0m \u001b[1;33m+\u001b[0m \u001b[1;34m' to have '\u001b[0m \u001b[1;33m+\u001b[0m\u001b[1;33m\u001b[0m\u001b[1;33m\u001b[0m\u001b[0m\n\u001b[0;32m    562\u001b[0m                            \u001b[0mstr\u001b[0m\u001b[1;33m(\u001b[0m\u001b[0mlen\u001b[0m\u001b[1;33m(\u001b[0m\u001b[0mshape\u001b[0m\u001b[1;33m)\u001b[0m\u001b[1;33m)\u001b[0m \u001b[1;33m+\u001b[0m \u001b[1;34m' dimensions, but got array '\u001b[0m\u001b[1;33m\u001b[0m\u001b[1;33m\u001b[0m\u001b[0m\n\u001b[1;32m--> 563\u001b[1;33m                            'with shape ' + str(data_shape))\n\u001b[0m\u001b[0;32m    564\u001b[0m         \u001b[1;32mif\u001b[0m \u001b[1;32mnot\u001b[0m \u001b[0mcheck_batch_axis\u001b[0m\u001b[1;33m:\u001b[0m\u001b[1;33m\u001b[0m\u001b[1;33m\u001b[0m\u001b[0m\n\u001b[0;32m    565\u001b[0m           \u001b[0mdata_shape\u001b[0m \u001b[1;33m=\u001b[0m \u001b[0mdata_shape\u001b[0m\u001b[1;33m[\u001b[0m\u001b[1;36m1\u001b[0m\u001b[1;33m:\u001b[0m\u001b[1;33m]\u001b[0m\u001b[1;33m\u001b[0m\u001b[1;33m\u001b[0m\u001b[0m\n",
      "\u001b[1;31mValueError\u001b[0m: Error when checking input: expected conv2d_3_input to have 4 dimensions, but got array with shape (0, 1)"
     ]
    }
   ],
   "source": [
    "history=model.fit(x_train,y_train,\n",
    "            batch_size=batch_size,\n",
    "            epochs=epochs,\n",
    "            validation_data=(x_test,y_test),\n",
    "            shuffle=True)\n",
    "\n",
    "scores=model.evaluate(x_test,y_test,verbose=1)\n",
    "print('Test loss:',scores[0])\n",
    "print('Test Accuracy:',scores[1])\n",
    "\n",
    "model.save('Amazon_preTest_augmentation')"
   ]
  },
  {
   "cell_type": "code",
   "execution_count": null,
   "metadata": {},
   "outputs": [],
   "source": []
  },
  {
   "cell_type": "code",
   "execution_count": 9,
   "metadata": {},
   "outputs": [],
   "source": [
    "import matplotlib as plt"
   ]
  },
  {
   "cell_type": "code",
   "execution_count": 14,
   "metadata": {},
   "outputs": [],
   "source": [
    "datadir='./FlipRobo/data/train/'\n",
    "categories=['shirts','Tshirts','sarees']\n",
    "\n",
    "for category in categories:\n",
    "    path=os.path.join(datadir,category)\n",
    "    for img in os.listdir(path):\n",
    "        images=cv2.imread(os.path.join(path,img))\n",
    "        rescale=1./255\n",
    "        \n",
    "        \n",
    "        #flip image horizontally\n",
    "        flipped=cv2.flip(images,1)\n",
    "        cv2.imshow('Horizontal Flip',flipped)\n",
    "        \n",
    "        #sharpening the image\n",
    "        kernel_sharpening=np.array([[-1,-1,-1],\n",
    "                                    [-1,9,-1],\n",
    "                                    [-1,-1,-1]])\n",
    "        sharpened=cv2.filter2D(images,-1,kernel_sharpening)\n",
    "        cv2.imshow('Image_Sharpening',sharpened)\n",
    "        \n",
    "        \n",
    "        #increasing Brightness\n",
    "        m=np.ones(images.shape,dtype='uint8')*75\n",
    "        added=cv2.add(images,m)\n",
    "        cv2.imshow('Brightness Increased',added)\n",
    "        \n",
    "        #Decreasing Brightness\n",
    "        subtracted=cv2.subtract(images,m)\n",
    "        cv2.imshow('Brightness Decreased',subtracted)\n",
    "        \n",
    "        \n",
    "        #Rotation of the image\n",
    "        #height,width=images.shape[:2]\n",
    "        rotation_range=30\n",
    "       # cv2.imshow('Rotated Image',rotated_image)\n",
    "        \n",
    "    \n",
    "        break\n",
    "        \n",
    "    break"
   ]
  },
  {
   "cell_type": "code",
   "execution_count": 15,
   "metadata": {},
   "outputs": [],
   "source": [
    "training_data=[]\n",
    "def create_training_data():\n",
    "    for category in categories:\n",
    "        path=os.path.join(datadir,category)\n",
    "        class_num=categories.index(category)\n",
    "        for img in os.listdir(path):\n",
    "            try:\n",
    "                images=cv2.imread(os.path.join(path,img))\n",
    "                rescale=1./255\n",
    "\n",
    "                #flip image horizontally\n",
    "                flipped=cv2.flip(images,1)\n",
    "                cv2.imshow('Horizontal Flip',flipped)\n",
    "\n",
    "                #sharpening the image\n",
    "                kernel_sharpening=np.array([[-1,-1,-1],\n",
    "                                                [-1,9,-1],\n",
    "                                                [-1,-1,-1]])  \n",
    "                sharpened=cv2.filter2D(images,-1,kernel_sharpening)\n",
    "                cv2.imshow('Image_Sharpening',sharpened)\n",
    "\n",
    "\n",
    "                #increasing Brightness\n",
    "                m=np.ones(images.shape,dtype='uint8')*75\n",
    "                added=cv2.add(images,m)            \n",
    "                cv2.imshow('Brightness Increased',added)\n",
    "\n",
    "                #Decreasing Brightness\n",
    "                subtracted=cv2.subtract(images,m)\n",
    "                cv2.imshow('Brightness Decreased',subtracted)\n",
    "\n",
    "                #Rotation of the image\n",
    "                rotation_range=(-30,30)\n",
    "\n",
    "                training_data.append([images,class_num])\n",
    "                \n",
    "            except Exception as e:\n",
    "                pass\n",
    "\n",
    "create_training_data()"
   ]
  },
  {
   "cell_type": "code",
   "execution_count": null,
   "metadata": {},
   "outputs": [],
   "source": []
  },
  {
   "cell_type": "code",
   "execution_count": null,
   "metadata": {},
   "outputs": [],
   "source": []
  }
 ],
 "metadata": {
  "kernelspec": {
   "display_name": "Python 3",
   "language": "python",
   "name": "python3"
  },
  "language_info": {
   "codemirror_mode": {
    "name": "ipython",
    "version": 3
   },
   "file_extension": ".py",
   "mimetype": "text/x-python",
   "name": "python",
   "nbconvert_exporter": "python",
   "pygments_lexer": "ipython3",
   "version": "3.6.10"
  }
 },
 "nbformat": 4,
 "nbformat_minor": 4
}
